{
  "nbformat": 4,
  "nbformat_minor": 0,
  "metadata": {
    "colab": {
      "provenance": []
    },
    "kernelspec": {
      "name": "python3",
      "display_name": "Python 3"
    },
    "language_info": {
      "name": "python"
    }
  },
  "cells": [
    {
      "cell_type": "markdown",
      "source": [
        "**Hand Written Digit Prediction - Classification Analysis**"
      ],
      "metadata": {
        "id": "y_Zzj5DSyOwZ"
      }
    },
    {
      "cell_type": "markdown",
      "source": [
        "Import Library"
      ],
      "metadata": {
        "id": "BQY7G8Amyk6B"
      }
    },
    {
      "cell_type": "code",
      "source": [
        "import pandas as pd\n",
        "import numpy as np\n",
        "import matplotlib.pyplot as plt\n"
      ],
      "metadata": {
        "id": "PnAhS1s-yp1J"
      },
      "execution_count": 3,
      "outputs": []
    },
    {
      "cell_type": "markdown",
      "source": [
        "Import Data"
      ],
      "metadata": {
        "id": "s9tfUbFdy9O-"
      }
    },
    {
      "cell_type": "code",
      "source": [
        "from sklearn.datasets import load_digits\n",
        "df = load_digits()\n",
        "_, axes = plt.subplots(nrows = 1, ncols = 4, figsize = (10, 3))\n",
        "for ax, image, label in zip(axes, df.images, df.target):\n",
        "  ax.set_axis_off()\n",
        "  ax.imshow(image, cmap=plt.cm.gray_r, interpolation=\"nearest\")\n",
        "  ax.set_title(\"Training: %i\" % label)"
      ],
      "metadata": {
        "colab": {
          "base_uri": "https://localhost:8080/",
          "height": 227
        },
        "id": "WElqPAkHzAKh",
        "outputId": "b9ea0025-9f9f-4298-ee12-1e0d2b506827"
      },
      "execution_count": 6,
      "outputs": [
        {
          "output_type": "display_data",
          "data": {
            "text/plain": [
              "<Figure size 1000x300 with 4 Axes>"
            ],
            "image/png": "[encoded data removed]"
          },
          "metadata": {}
        }
      ]
    },
    {
      "cell_type": "markdown",
      "source": [
        "Data Preprocessing\n"
      ],
      "metadata": {
        "id": "bwezRoa00rZp"
      }
    },
    {
      "cell_type": "code",
      "source": [
        "df.images.shape"
      ],
      "metadata": {
        "colab": {
          "base_uri": "https://localhost:8080/"
        },
        "id": "fh8MpFC106jm",
        "outputId": "5361e3b0-4aa2-4b69-b2bf-4a75d2e2d8c2"
      },
      "execution_count": 7,
      "outputs": [
        {
          "output_type": "execute_result",
          "data": {
            "text/plain": [
              "(1797, 8, 8)"
            ]
          },
          "metadata": {},
          "execution_count": 7
        }
      ]
    },
    {
      "cell_type": "code",
      "source": [
        "df.images[0]"
      ],
      "metadata": {
        "colab": {
          "base_uri": "https://localhost:8080/"
        },
        "id": "bA7zG00A0-Dx",
        "outputId": "f0693817-b071-43d1-902a-a43ab0b7f30b"
      },
      "execution_count": 8,
      "outputs": [
        {
          "output_type": "execute_result",
          "data": {
            "text/plain": [
              "array([[ 0.,  0.,  5., 13.,  9.,  1.,  0.,  0.],\n",
              "       [ 0.,  0., 13., 15., 10., 15.,  5.,  0.],\n",
              "       [ 0.,  3., 15.,  2.,  0., 11.,  8.,  0.],\n",
              "       [ 0.,  4., 12.,  0.,  0.,  8.,  8.,  0.],\n",
              "       [ 0.,  5.,  8.,  0.,  0.,  9.,  8.,  0.],\n",
              "       [ 0.,  4., 11.,  0.,  1., 12.,  7.,  0.],\n",
              "       [ 0.,  2., 14.,  5., 10., 12.,  0.,  0.],\n",
              "       [ 0.,  0.,  6., 13., 10.,  0.,  0.,  0.]])"
            ]
          },
          "metadata": {},
          "execution_count": 8
        }
      ]
    },
    {
      "cell_type": "code",
      "source": [
        "df.images[0].shape"
      ],
      "metadata": {
        "colab": {
          "base_uri": "https://localhost:8080/"
        },
        "id": "-DHmEgHy1Cv1",
        "outputId": "82c00ff9-71fb-46eb-cd54-f2970d58e38b"
      },
      "execution_count": 9,
      "outputs": [
        {
          "output_type": "execute_result",
          "data": {
            "text/plain": [
              "(8, 8)"
            ]
          },
          "metadata": {},
          "execution_count": 9
        }
      ]
    },
    {
      "cell_type": "code",
      "source": [
        "len(df.images)"
      ],
      "metadata": {
        "colab": {
          "base_uri": "https://localhost:8080/"
        },
        "id": "cy1P15-P1IO5",
        "outputId": "d8f18b61-9261-41e6-d0a0-3087c69d7a4e"
      },
      "execution_count": 10,
      "outputs": [
        {
          "output_type": "execute_result",
          "data": {
            "text/plain": [
              "1797"
            ]
          },
          "metadata": {},
          "execution_count": 10
        }
      ]
    },
    {
      "cell_type": "code",
      "source": [
        "n_samples = len(df.images)\n",
        "data = df.images.reshape(n_samples, -1)"
      ],
      "metadata": {
        "id": "oUHKSfsD1LIt"
      },
      "execution_count": 11,
      "outputs": []
    },
    {
      "cell_type": "code",
      "source": [
        "data[0]"
      ],
      "metadata": {
        "colab": {
          "base_uri": "https://localhost:8080/"
        },
        "id": "EnF_FTtL1dFT",
        "outputId": "0c2867c8-dc17-4acb-c46d-e9c223482788"
      },
      "execution_count": 12,
      "outputs": [
        {
          "output_type": "execute_result",
          "data": {
            "text/plain": [
              "array([ 0.,  0.,  5., 13.,  9.,  1.,  0.,  0.,  0.,  0., 13., 15., 10.,\n",
              "       15.,  5.,  0.,  0.,  3., 15.,  2.,  0., 11.,  8.,  0.,  0.,  4.,\n",
              "       12.,  0.,  0.,  8.,  8.,  0.,  0.,  5.,  8.,  0.,  0.,  9.,  8.,\n",
              "        0.,  0.,  4., 11.,  0.,  1., 12.,  7.,  0.,  0.,  2., 14.,  5.,\n",
              "       10., 12.,  0.,  0.,  0.,  0.,  6., 13., 10.,  0.,  0.,  0.])"
            ]
          },
          "metadata": {},
          "execution_count": 12
        }
      ]
    },
    {
      "cell_type": "code",
      "source": [
        "data[0].shape"
      ],
      "metadata": {
        "colab": {
          "base_uri": "https://localhost:8080/"
        },
        "id": "4UKlDipC1fyX",
        "outputId": "c88de093-4f26-42a1-d631-a32892d6795e"
      },
      "execution_count": 13,
      "outputs": [
        {
          "output_type": "execute_result",
          "data": {
            "text/plain": [
              "(64,)"
            ]
          },
          "metadata": {},
          "execution_count": 13
        }
      ]
    },
    {
      "cell_type": "code",
      "source": [
        "data.shape"
      ],
      "metadata": {
        "colab": {
          "base_uri": "https://localhost:8080/"
        },
        "id": "z-_CpglGJvIt",
        "outputId": "d64c6d1e-fe6b-40fc-975b-e607ea9a2181"
      },
      "execution_count": 14,
      "outputs": [
        {
          "output_type": "execute_result",
          "data": {
            "text/plain": [
              "(1797, 64)"
            ]
          },
          "metadata": {},
          "execution_count": 14
        }
      ]
    },
    {
      "cell_type": "markdown",
      "source": [
        "Scaling Image Data"
      ],
      "metadata": {
        "id": "1GttdiuZJx-j"
      }
    },
    {
      "cell_type": "code",
      "source": [
        "data.min()"
      ],
      "metadata": {
        "colab": {
          "base_uri": "https://localhost:8080/"
        },
        "id": "m3k1fXCiJ4FC",
        "outputId": "be134b1f-027c-4b9e-80f2-3ed1f7cb7f46"
      },
      "execution_count": 15,
      "outputs": [
        {
          "output_type": "execute_result",
          "data": {
            "text/plain": [
              "0.0"
            ]
          },
          "metadata": {},
          "execution_count": 15
        }
      ]
    },
    {
      "cell_type": "code",
      "source": [
        "data.max()"
      ],
      "metadata": {
        "colab": {
          "base_uri": "https://localhost:8080/"
        },
        "id": "kYKE6Fa6J50s",
        "outputId": "e0cf3457-a04a-4dd8-a2e0-4fe41986c9c7"
      },
      "execution_count": 16,
      "outputs": [
        {
          "output_type": "execute_result",
          "data": {
            "text/plain": [
              "16.0"
            ]
          },
          "metadata": {},
          "execution_count": 16
        }
      ]
    },
    {
      "cell_type": "code",
      "source": [
        "data = data/16\n",
        "data.min()"
      ],
      "metadata": {
        "colab": {
          "base_uri": "https://localhost:8080/"
        },
        "id": "0aspf5PbJ7ri",
        "outputId": "ef5d7ab0-c25a-4b13-a0a8-47a2edac6b72"
      },
      "execution_count": 17,
      "outputs": [
        {
          "output_type": "execute_result",
          "data": {
            "text/plain": [
              "0.0"
            ]
          },
          "metadata": {},
          "execution_count": 17
        }
      ]
    },
    {
      "cell_type": "code",
      "source": [
        "data.max()"
      ],
      "metadata": {
        "colab": {
          "base_uri": "https://localhost:8080/"
        },
        "id": "lD4M-2P1KBXM",
        "outputId": "86bbe81a-9d28-431a-ef77-4372a303c369"
      },
      "execution_count": 18,
      "outputs": [
        {
          "output_type": "execute_result",
          "data": {
            "text/plain": [
              "1.0"
            ]
          },
          "metadata": {},
          "execution_count": 18
        }
      ]
    },
    {
      "cell_type": "code",
      "source": [
        "data[0]"
      ],
      "metadata": {
        "colab": {
          "base_uri": "https://localhost:8080/"
        },
        "id": "zaD6gZyqKCim",
        "outputId": "28143631-c105-46bf-e0ea-3078f298a7d5"
      },
      "execution_count": 19,
      "outputs": [
        {
          "output_type": "execute_result",
          "data": {
            "text/plain": [
              "array([0.    , 0.    , 0.3125, 0.8125, 0.5625, 0.0625, 0.    , 0.    ,\n",
              "       0.    , 0.    , 0.8125, 0.9375, 0.625 , 0.9375, 0.3125, 0.    ,\n",
              "       0.    , 0.1875, 0.9375, 0.125 , 0.    , 0.6875, 0.5   , 0.    ,\n",
              "       0.    , 0.25  , 0.75  , 0.    , 0.    , 0.5   , 0.5   , 0.    ,\n",
              "       0.    , 0.3125, 0.5   , 0.    , 0.    , 0.5625, 0.5   , 0.    ,\n",
              "       0.    , 0.25  , 0.6875, 0.    , 0.0625, 0.75  , 0.4375, 0.    ,\n",
              "       0.    , 0.125 , 0.875 , 0.3125, 0.625 , 0.75  , 0.    , 0.    ,\n",
              "       0.    , 0.    , 0.375 , 0.8125, 0.625 , 0.    , 0.    , 0.    ])"
            ]
          },
          "metadata": {},
          "execution_count": 19
        }
      ]
    },
    {
      "cell_type": "markdown",
      "source": [
        "Train Test Split Data"
      ],
      "metadata": {
        "id": "oiKlDJC2KFxZ"
      }
    },
    {
      "cell_type": "code",
      "source": [
        "from sklearn.model_selection import train_test_split\n",
        "X_train, X_test, y_train, y_test = train_test_split(data, df.target, test_size = 0.3)"
      ],
      "metadata": {
        "id": "PIpqmQvEKLtb"
      },
      "execution_count": 20,
      "outputs": []
    },
    {
      "cell_type": "code",
      "source": [
        "X_train.shape, X_test.shape, y_train.shape, y_test.shape"
      ],
      "metadata": {
        "colab": {
          "base_uri": "https://localhost:8080/"
        },
        "id": "j_ZI9PoRKjzT",
        "outputId": "62d3834b-19c2-47c9-cacf-64ea1017dd23"
      },
      "execution_count": 22,
      "outputs": [
        {
          "output_type": "execute_result",
          "data": {
            "text/plain": [
              "((1257, 64), (540, 64), (1257,), (540,))"
            ]
          },
          "metadata": {},
          "execution_count": 22
        }
      ]
    },
    {
      "cell_type": "markdown",
      "source": [
        "Random Forest Model"
      ],
      "metadata": {
        "id": "YGuxsnIuK5wD"
      }
    },
    {
      "cell_type": "code",
      "source": [
        "from sklearn.ensemble import RandomForestClassifier\n",
        "rf = RandomForestClassifier()\n",
        "rf.fit(X_train, y_train)"
      ],
      "metadata": {
        "colab": {
          "base_uri": "https://localhost:8080/",
          "height": 74
        },
        "id": "TIUuhdu4LFuy",
        "outputId": "97470407-3303-4588-e233-8fd4612e9c3d"
      },
      "execution_count": 23,
      "outputs": [
        {
          "output_type": "execute_result",
          "data": {
            "text/plain": [
              "RandomForestClassifier()"
            ],
            "text/html": [
              "<style>#sk-container-id-1 {color: black;background-color: white;}#sk-container-id-1 pre{padding: 0;}#sk-container-id-1 div.sk-toggleable {background-color: white;}#sk-container-id-1 label.sk-toggleable__label {cursor: pointer;display: block;width: 100%;margin-bottom: 0;padding: 0.3em;box-sizing: border-box;text-align: center;}#sk-container-id-1 label.sk-toggleable__label-arrow:before {content: \"▸\";float: left;margin-right: 0.25em;color: #696969;}#sk-container-id-1 label.sk-toggleable__label-arrow:hover:before {color: black;}#sk-container-id-1 div.sk-estimator:hover label.sk-toggleable__label-arrow:before {color: black;}#sk-container-id-1 div.sk-toggleable__content {max-height: 0;max-width: 0;overflow: hidden;text-align: left;background-color: #f0f8ff;}#sk-container-id-1 div.sk-toggleable__content pre {margin: 0.2em;color: black;border-radius: 0.25em;background-color: #f0f8ff;}#sk-container-id-1 input.sk-toggleable__control:checked~div.sk-toggleable__content {max-height: 200px;max-width: 100%;overflow: auto;}#sk-container-id-1 input.sk-toggleable__control:checked~label.sk-toggleable__label-arrow:before {content: \"▾\";}#sk-container-id-1 div.sk-estimator input.sk-toggleable__control:checked~label.sk-toggleable__label {background-color: #d4ebff;}#sk-container-id-1 div.sk-label input.sk-toggleable__control:checked~label.sk-toggleable__label {background-color: #d4ebff;}#sk-container-id-1 input.sk-hidden--visually {border: 0;clip: rect(1px 1px 1px 1px);clip: rect(1px, 1px, 1px, 1px);height: 1px;margin: -1px;overflow: hidden;padding: 0;position: absolute;width: 1px;}#sk-container-id-1 div.sk-estimator {font-family: monospace;background-color: #f0f8ff;border: 1px dotted black;border-radius: 0.25em;box-sizing: border-box;margin-bottom: 0.5em;}#sk-container-id-1 div.sk-estimator:hover {background-color: #d4ebff;}#sk-container-id-1 div.sk-parallel-item::after {content: \"\";width: 100%;border-bottom: 1px solid gray;flex-grow: 1;}#sk-container-id-1 div.sk-label:hover label.sk-toggleable__label {background-color: #d4ebff;}#sk-container-id-1 div.sk-serial::before {content: \"\";position: absolute;border-left: 1px solid gray;box-sizing: border-box;top: 0;bottom: 0;left: 50%;z-index: 0;}#sk-container-id-1 div.sk-serial {display: flex;flex-direction: column;align-items: center;background-color: white;padding-right: 0.2em;padding-left: 0.2em;position: relative;}#sk-container-id-1 div.sk-item {position: relative;z-index: 1;}#sk-container-id-1 div.sk-parallel {display: flex;align-items: stretch;justify-content: center;background-color: white;position: relative;}#sk-container-id-1 div.sk-item::before, #sk-container-id-1 div.sk-parallel-item::before {content: \"\";position: absolute;border-left: 1px solid gray;box-sizing: border-box;top: 0;bottom: 0;left: 50%;z-index: -1;}#sk-container-id-1 div.sk-parallel-item {display: flex;flex-direction: column;z-index: 1;position: relative;background-color: white;}#sk-container-id-1 div.sk-parallel-item:first-child::after {align-self: flex-end;width: 50%;}#sk-container-id-1 div.sk-parallel-item:last-child::after {align-self: flex-start;width: 50%;}#sk-container-id-1 div.sk-parallel-item:only-child::after {width: 0;}#sk-container-id-1 div.sk-dashed-wrapped {border: 1px dashed gray;margin: 0 0.4em 0.5em 0.4em;box-sizing: border-box;padding-bottom: 0.4em;background-color: white;}#sk-container-id-1 div.sk-label label {font-family: monospace;font-weight: bold;display: inline-block;line-height: 1.2em;}#sk-container-id-1 div.sk-label-container {text-align: center;}#sk-container-id-1 div.sk-container {/* jupyter's `normalize.less` sets `[hidden] { display: none; }` but bootstrap.min.css set `[hidden] { display: none !important; }` so we also need the `!important` here to be able to override the default hidden behavior on the sphinx rendered scikit-learn.org. See: https://github.com/scikit-learn/scikit-learn/issues/21755 */display: inline-block !important;position: relative;}#sk-container-id-1 div.sk-text-repr-fallback {display: none;}</style><div id=\"sk-container-id-1\" class=\"sk-top-container\"><div class=\"sk-text-repr-fallback\"><pre>RandomForestClassifier()</pre><b>In a Jupyter environment, please rerun this cell to show the HTML representation or trust the notebook. <br />On GitHub, the HTML representation is unable to render, please try loading this page with nbviewer.org.</b></div><div class=\"sk-container\" hidden><div class=\"sk-item\"><div class=\"sk-estimator sk-toggleable\"><input class=\"sk-toggleable__control sk-hidden--visually\" id=\"sk-estimator-id-1\" type=\"checkbox\" checked><label for=\"sk-estimator-id-1\" class=\"sk-toggleable__label sk-toggleable__label-arrow\">RandomForestClassifier</label><div class=\"sk-toggleable__content\"><pre>RandomForestClassifier()</pre></div></div></div></div></div>"
            ]
          },
          "metadata": {},
          "execution_count": 23
        }
      ]
    },
    {
      "cell_type": "markdown",
      "source": [
        "Predict Test Data"
      ],
      "metadata": {
        "id": "Yc2S52ZkLhcF"
      }
    },
    {
      "cell_type": "code",
      "source": [
        "y_pred = rf.predict(X_test)\n",
        "y_pred"
      ],
      "metadata": {
        "colab": {
          "base_uri": "https://localhost:8080/"
        },
        "id": "diOX8UZ_LmVO",
        "outputId": "d9530094-4bdb-484b-90f6-91cf4a555083"
      },
      "execution_count": 24,
      "outputs": [
        {
          "output_type": "execute_result",
          "data": {
            "text/plain": [
              "array([9, 6, 1, 5, 2, 3, 6, 6, 9, 4, 5, 7, 7, 4, 9, 8, 1, 9, 1, 1, 5, 4,\n",
              "       5, 4, 0, 2, 2, 9, 2, 9, 1, 2, 0, 0, 7, 6, 9, 5, 2, 7, 6, 8, 9, 2,\n",
              "       4, 1, 1, 1, 8, 0, 7, 0, 2, 5, 0, 0, 9, 3, 8, 9, 8, 2, 6, 8, 8, 6,\n",
              "       7, 7, 3, 1, 2, 3, 3, 4, 5, 4, 1, 8, 4, 5, 8, 5, 8, 2, 3, 6, 8, 3,\n",
              "       4, 2, 1, 3, 6, 9, 8, 3, 3, 8, 7, 7, 0, 2, 3, 2, 9, 7, 1, 4, 3, 7,\n",
              "       5, 9, 3, 4, 4, 8, 1, 6, 9, 9, 3, 9, 4, 1, 0, 6, 1, 0, 4, 3, 9, 0,\n",
              "       0, 8, 3, 0, 2, 3, 3, 5, 6, 4, 0, 5, 2, 0, 1, 4, 3, 3, 3, 6, 3, 7,\n",
              "       1, 2, 0, 5, 4, 3, 2, 5, 6, 6, 1, 1, 7, 7, 8, 7, 6, 7, 1, 2, 5, 0,\n",
              "       0, 2, 0, 4, 5, 7, 2, 5, 1, 9, 5, 5, 0, 4, 3, 1, 9, 5, 7, 5, 6, 6,\n",
              "       9, 6, 8, 0, 5, 6, 0, 9, 7, 0, 7, 1, 3, 4, 1, 1, 0, 1, 1, 1, 8, 3,\n",
              "       4, 9, 6, 0, 7, 5, 9, 4, 9, 2, 0, 5, 6, 3, 5, 5, 2, 1, 2, 3, 5, 8,\n",
              "       8, 1, 6, 8, 4, 2, 7, 5, 7, 1, 2, 2, 7, 1, 3, 9, 5, 3, 9, 5, 2, 1,\n",
              "       8, 2, 5, 1, 8, 1, 1, 0, 9, 4, 7, 1, 6, 0, 2, 3, 4, 8, 3, 1, 2, 2,\n",
              "       8, 5, 9, 1, 8, 1, 5, 3, 5, 6, 9, 7, 2, 6, 5, 2, 9, 3, 2, 1, 9, 9,\n",
              "       0, 5, 4, 4, 2, 4, 6, 6, 6, 5, 2, 4, 7, 3, 6, 9, 6, 6, 2, 8, 8, 7,\n",
              "       2, 0, 5, 2, 7, 1, 7, 8, 6, 6, 7, 0, 3, 3, 0, 0, 1, 5, 7, 3, 0, 1,\n",
              "       6, 5, 0, 2, 6, 9, 8, 0, 0, 1, 9, 4, 5, 6, 9, 9, 2, 3, 0, 7, 7, 2,\n",
              "       0, 7, 5, 1, 9, 4, 1, 8, 2, 7, 8, 2, 9, 5, 3, 9, 0, 8, 8, 5, 4, 1,\n",
              "       8, 6, 3, 5, 0, 6, 1, 5, 7, 9, 4, 7, 4, 4, 7, 7, 9, 2, 1, 0, 5, 1,\n",
              "       7, 0, 7, 6, 2, 0, 7, 9, 7, 9, 0, 7, 4, 2, 9, 8, 8, 3, 6, 6, 2, 1,\n",
              "       2, 1, 1, 0, 9, 9, 4, 2, 5, 7, 6, 0, 1, 6, 1, 1, 1, 3, 9, 5, 4, 5,\n",
              "       4, 6, 2, 8, 0, 7, 3, 3, 6, 5, 7, 4, 9, 4, 7, 7, 5, 9, 3, 6, 7, 4,\n",
              "       2, 3, 6, 0, 3, 6, 2, 9, 6, 7, 3, 3, 8, 3, 0, 3, 3, 3, 1, 9, 2, 6,\n",
              "       4, 3, 1, 2, 0, 8, 1, 1, 9, 4, 6, 0, 8, 2, 8, 7, 3, 8, 5, 4, 5, 1,\n",
              "       2, 6, 0, 9, 8, 9, 3, 8, 6, 1, 7, 7])"
            ]
          },
          "metadata": {},
          "execution_count": 24
        }
      ]
    },
    {
      "cell_type": "markdown",
      "source": [
        "Model Accuracy"
      ],
      "metadata": {
        "id": "5zAg6HNcL5J2"
      }
    },
    {
      "cell_type": "code",
      "source": [
        "from sklearn.metrics import confusion_matrix, classification_report\n",
        "confusion_matrix(y_test, y_pred)"
      ],
      "metadata": {
        "colab": {
          "base_uri": "https://localhost:8080/"
        },
        "id": "QnwmF1aBMDMh",
        "outputId": "f94d0a98-8dab-4394-cf29-fb1a430c778b"
      },
      "execution_count": 25,
      "outputs": [
        {
          "output_type": "execute_result",
          "data": {
            "text/plain": [
              "array([[52,  0,  0,  0,  1,  0,  0,  0,  0,  0],\n",
              "       [ 0, 63,  0,  0,  0,  0,  0,  0,  0,  0],\n",
              "       [ 0,  0, 58,  0,  0,  0,  0,  0,  0,  0],\n",
              "       [ 1,  0,  0, 55,  0,  0,  0,  1,  0,  0],\n",
              "       [ 0,  0,  0,  0, 44,  0,  0,  0,  0,  0],\n",
              "       [ 0,  0,  0,  0,  0, 53,  0,  0,  0,  0],\n",
              "       [ 0,  0,  0,  0,  0,  1, 54,  0,  1,  0],\n",
              "       [ 0,  0,  0,  0,  0,  0,  0, 54,  1,  0],\n",
              "       [ 0,  1,  0,  0,  0,  0,  0,  0, 43,  0],\n",
              "       [ 0,  0,  0,  2,  0,  0,  0,  0,  0, 55]])"
            ]
          },
          "metadata": {},
          "execution_count": 25
        }
      ]
    },
    {
      "cell_type": "code",
      "source": [
        "print(classification_report(y_test, y_pred))"
      ],
      "metadata": {
        "colab": {
          "base_uri": "https://localhost:8080/"
        },
        "id": "46MHk2fBMY4V",
        "outputId": "f7b2d92d-3137-4867-ad2d-52d59badfc71"
      },
      "execution_count": 26,
      "outputs": [
        {
          "output_type": "stream",
          "name": "stdout",
          "text": [
            "              precision    recall  f1-score   support\n",
            "\n",
            "           0       0.98      0.98      0.98        53\n",
            "           1       0.98      1.00      0.99        63\n",
            "           2       1.00      1.00      1.00        58\n",
            "           3       0.96      0.96      0.96        57\n",
            "           4       0.98      1.00      0.99        44\n",
            "           5       0.98      1.00      0.99        53\n",
            "           6       1.00      0.96      0.98        56\n",
            "           7       0.98      0.98      0.98        55\n",
            "           8       0.96      0.98      0.97        44\n",
            "           9       1.00      0.96      0.98        57\n",
            "\n",
            "    accuracy                           0.98       540\n",
            "   macro avg       0.98      0.98      0.98       540\n",
            "weighted avg       0.98      0.98      0.98       540\n",
            "\n"
          ]
        }
      ]
    },
    {
      "cell_type": "code",
      "source": [],
      "metadata": {
        "id": "VYOyV-W4Mld8"
      },
      "execution_count": null,
      "outputs": []
    }
  ]
}